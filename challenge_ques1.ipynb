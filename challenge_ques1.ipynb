{
  "nbformat": 4,
  "nbformat_minor": 0,
  "metadata": {
    "colab": {
      "provenance": [],
      "authorship_tag": "ABX9TyOV8VZbdg2AApjpRxJwTguK",
      "include_colab_link": true
    },
    "kernelspec": {
      "name": "python3",
      "display_name": "Python 3"
    },
    "language_info": {
      "name": "python"
    }
  },
  "cells": [
    {
      "cell_type": "markdown",
      "metadata": {
        "id": "view-in-github",
        "colab_type": "text"
      },
      "source": [
        "<a href=\"https://colab.research.google.com/github/akshitsingla21/python-challenge-ques-1/blob/main/challenge_ques1.ipynb\" target=\"_parent\"><img src=\"https://colab.research.google.com/assets/colab-badge.svg\" alt=\"Open In Colab\"/></a>"
      ]
    },
    {
      "cell_type": "code",
      "execution_count": 5,
      "metadata": {
        "colab": {
          "base_uri": "https://localhost:8080/"
        },
        "id": "lYqQ1rW4scCC",
        "outputId": "36e1bd33-5ad4-47c5-c2b8-cb53683be134"
      },
      "outputs": [
        {
          "output_type": "stream",
          "name": "stdout",
          "text": [
            "['Ram', 1, 'Shyam', 2, 'Aman', 3]\n",
            "[1, 2, 3] ['Aman', 'Ram', 'Shyam']\n",
            "sorted string is [1, 2, 3, 'Aman', 'Ram', 'Shyam']\n"
          ]
        }
      ],
      "source": [
        "L= [\"Ram\",1,\"Shyam\",2,\"Aman\",3]\n",
        "print(L)\n",
        "L1=[]\n",
        "L2=[]\n",
        "for i in L:\n",
        " if type(i) is int:\n",
        "  L1.append(i)\n",
        " else:\n",
        "  L2.append(i)\n",
        "L1.sort()\n",
        "L2.sort()  \n",
        "print(L1,L2)\n",
        "\n",
        "L3=L1+L2\n",
        "print(\"sorted string is\",L3)\n",
        "\n"
      ]
    }
  ]
}